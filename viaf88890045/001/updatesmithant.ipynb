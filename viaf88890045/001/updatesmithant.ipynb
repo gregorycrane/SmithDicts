{
 "cells": [
  {
   "cell_type": "code",
   "execution_count": null,
   "metadata": {},
   "outputs": [],
   "source": [
    "import re\n",
    "\n",
    "# <!ENTITY drachm \"[drachm]\" > \n",
    "#<!ENTITY drachm1 \"[drachm1]\" > \n",
    "#<!ENTITY drachm5 \"[drachm5]\" > \n",
    "#<!ENTITY drachm10 \"[drachm10]\" > \n",
    "\n",
    "<!ENTITY drachm50 \"[drachm50]\" > \n",
    "#<!ENTITY drachm100 \"[drachm100]\" > \n",
    "#<!ENTITY drachm500 \"[drachm500]\" > \n",
    "#<!ENTITY drachm1000 \"[drachm1000]\" > <!ENTITY drachm5000 \"[drachm5000]\" > \n",
    "#<!ENTITY CC \"[CC]\" > \n",
    "#<!ENTITY CF \"[CF]\" > <!ENTITY CI \"[CI]\" > \n",
    "#<!ENTITY Dmacr \"[Dmacr]\" >\n",
    "\n",
    "#<!ENTITY Psi \"[Psi]\" >\n",
    "#<!ENTITY breveict \"[breveict]\" > \n",
    "#<!ENTITY drachm1000000 \"[drachm1000000]\" > \n",
    "#<!ENTITY frac160 \"[frac160]\" > <!ENTITY lceil \"[lceil]\" > \n",
    "#<!ENTITY lg \"[lg]\" > <!ENTITY macrict \"[macrict]\" > \n",
    "#<!ENTITY macrictict \"[macrictict]\" >\n",
    "#<!ENTITY macrpause \"[macrpause]\" > \n",
    "#<!ENTITY multi \"[multi]\" > <!ENTITY music1 \"[music1]\" > <!ENTITY music2 \"[music2]\" > <!ENTITY music3 \"[music3]\" > <!ENTITY music4 \"[music4]\" > <!ENTITY music5 \"[music5]\" > <!ENTITY music6 \"[music6]\" > <!ENTITY music7 \"[music7]\" > <!ENTITY music8 \"[music8]\" > <!ENTITY music9 \"[music9]\" > <!ENTITY music10 \"[music10]\" > <!ENTITY music11 \"[music11]\" > <!ENTITY music12 \"[music12]\" > <!ENTITY music13 \"[music13]\" > <!ENTITY music14 \"[music14]\" > <!ENTITY music15 \"[music15]\" > <!ENTITY music16 \"[music16]\" > <!ENTITY music17 \"[music17]\" > <!ENTITY music18 \"[music18]\" > <!ENTITY music19 \"[music19]\" > <!ENTITY music20 \"[music20]\" > <!ENTITY music21 \"[music21]\" > <!ENTITY music22 \"[music22]\" > <!ENTITY music23 \"[music23]\" > <!ENTITY otimes \"[otimes]\" > <!ENTITY pause \"[pause]\" > <!ENTITY pentaseme \"[pentaseme]\" > <!ENTITY rceil \"[rceil]\" > <!ENTITY tetmseme \"[tetmseme]\" > <!ENTITY tetraseme \"[tetraseme]\" > <!ENTITY tetrasemeict \"[tetrasemeict]\" > <!ENTITY tetrasemepause \"[tetrasemepause]\" > <!ENTITY triseme \"[triseme]\" > <!ENTITY trisemepause \"[trisemepause]\" > <!ENTITY uprime \"[uprime]\" > \n"
   ]
  }
 ],
 "metadata": {
  "kernelspec": {
   "display_name": "Python 3",
   "language": "python",
   "name": "python3"
  },
  "language_info": {
   "codemirror_mode": {
    "name": "ipython",
    "version": 3
   },
   "file_extension": ".py",
   "mimetype": "text/x-python",
   "name": "python",
   "nbconvert_exporter": "python",
   "pygments_lexer": "ipython3",
   "version": "3.8.1"
  }
 },
 "nbformat": 4,
 "nbformat_minor": 4
}
